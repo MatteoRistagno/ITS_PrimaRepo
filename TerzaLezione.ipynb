{
 "cells": [
  {
   "cell_type": "code",
   "execution_count": null,
   "metadata": {},
   "outputs": [],
   "source": [
    "lista = [1,2,3,4,5,6,7,8,9]\n",
    "count=0\n",
    "\n",
    "for elemento in lista:\n",
    "    if(count>=4):\n",
    "        break\n",
    "\n",
    "    count+=1\n",
    "    print(elemento)"
   ]
  },
  {
   "cell_type": "code",
   "execution_count": null,
   "metadata": {},
   "outputs": [],
   "source": [
    "# Liste lunghezze diverse\n",
    "lista = [1,2,3,4,5,6,7,8,9]\n",
    "lista2 = [1,2,3,4,5,6,7,8,9,10]\n",
    "lista3 = [1,2,3,4,5,6]\n",
    "\n",
    "# Soluzione sbagliata\n",
    "for i in range(len(lista)):\n",
    "    print(lista[i], lista2[i], lista3[i])\n",
    "\n",
    "#Soluzione corretta\n",
    "for elem, elem2, elem3 in zip(lista, lista2, lista3):\n",
    "    print(elem, elem2, elem3)"
   ]
  },
  {
   "cell_type": "code",
   "execution_count": null,
   "metadata": {},
   "outputs": [],
   "source": [
    "lista = [1,2,3,4,5,6,7,8,9]\n",
    "lista2 = [1,2,3,4,5,6,7,8,9,10]\n",
    "lista3 = [1,2,3,4,5,6]\n",
    "\n",
    "lungmax = max(len(lista), len(lista2), len(lista3))\n",
    "\n",
    "for i in range(lungmax):\n",
    "    if(i<len(lista)):\n",
    "        print(lista[i])\n",
    "\n",
    "    if(i<len(lista2)):\n",
    "        print(lista2[i])\n",
    "\n",
    "    if(i<len(lista3)):\n",
    "        print(lista3[i])"
   ]
  },
  {
   "cell_type": "markdown",
   "metadata": {},
   "source": [
    "## Librerie"
   ]
  },
  {
   "cell_type": "code",
   "execution_count": null,
   "metadata": {},
   "outputs": [],
   "source": [
    "# Uso della libreria random\n",
    "import random\n",
    "from random import randint"
   ]
  },
  {
   "cell_type": "code",
   "execution_count": null,
   "metadata": {},
   "outputs": [],
   "source": [
    "# Dictionary\n",
    "vardict = {\n",
    "    \"Chiave\": \"valore\",\n",
    "    \"int\": 1,\n",
    "    \"float\": 0.5\n",
    "}\n",
    "print(vardict[\"int\"])\n",
    "\n",
    "vardict[\"int\"] = 2\n",
    "print(vardict[\"int\"])\n",
    "\n",
    "vardict[\"nuovo\"] = \"nuovo valore\"\n",
    "print(vardict[\"nuovo\"])\n",
    "\n",
    "# Lista di dizionari\n",
    "listdict = [vardict, vardict, vardict]"
   ]
  },
  {
   "cell_type": "markdown",
   "metadata": {},
   "source": [
    "## Funzioni"
   ]
  },
  {
   "cell_type": "code",
   "execution_count": null,
   "metadata": {},
   "outputs": [],
   "source": [
    "def somma(a, b):\n",
    "    c = a +b\n",
    "    return c"
   ]
  },
  {
   "cell_type": "code",
   "execution_count": null,
   "metadata": {},
   "outputs": [],
   "source": [
    "def is_even(n):\n",
    "    return n % 2 == 0"
   ]
  },
  {
   "cell_type": "code",
   "execution_count": null,
   "metadata": {},
   "outputs": [],
   "source": [
    "def sommapari(a,b):\n",
    "    risultato = somma(a,b)\n",
    "    return is_even(risultato)"
   ]
  },
  {
   "cell_type": "code",
   "execution_count": null,
   "metadata": {},
   "outputs": [],
   "source": [
    "from random import randint\n",
    "\n",
    "for i in range(10):\n",
    "    a = randint(0,10)\n",
    "    b = randint(0,10)\n",
    "    print(a, b, somma(a, b), sommapari(a, b))"
   ]
  },
  {
   "cell_type": "markdown",
   "metadata": {},
   "source": [
    "## Esercizio\n",
    "1. Chiedere all'utente quante volte controllare l'orario\n",
    "2. controllare l'orario\n",
    "3. controllare l'orario dopo una quantità casuale di secondi\n",
    "4. dirmi se i secondi (nell'orario) sono pari o dispari\n",
    "5. ripetere n volte"
   ]
  },
  {
   "cell_type": "code",
   "execution_count": null,
   "metadata": {},
   "outputs": [],
   "source": [
    "def outnum():\n",
    "    #Acquisizione dato input\n",
    "    q = int(input(\"Quante volte controllare l'orario? Risposta: \"))\n",
    "    return q"
   ]
  },
  {
   "cell_type": "code",
   "execution_count": null,
   "metadata": {},
   "outputs": [],
   "source": [
    "import datetime\n",
    "\n",
    "def gettime():\n",
    "    now = datetime.datetime.now()\n",
    "    return now.strftime('%H:%M:%S')\n",
    "\n",
    "def checkeo():\n",
    "    c = gettime()\n",
    "    if(c == 0):\n",
    "        print(\"I secondi sono pari\\n\")\n",
    "    else:\n",
    "        print(\"I secondi sono dispari\\n\")"
   ]
  },
  {
   "cell_type": "code",
   "execution_count": null,
   "metadata": {},
   "outputs": [],
   "source": [
    "from random import randint\n",
    "import time\n",
    "\n",
    "def tpause():\n",
    "    casuale = randint(1, 5)\n",
    "    time.sleep(casuale)\n",
    "    return casuale"
   ]
  },
  {
   "cell_type": "code",
   "execution_count": null,
   "metadata": {},
   "outputs": [],
   "source": [
    "# Import librerie\n",
    "import time\n",
    "#Acquisizione numero\n",
    "n = outnum()\n",
    "\n",
    "#Apertura ciclo\n",
    "for i in range(0, n, 1):\n",
    "    #Stampa orario\n",
    "    print(gettime())\n",
    "    #Notifica tempo di attesa\n",
    "    print(\"Attendiamo\", tpause(), \"secondi...\")\n",
    "    #Stampa orario\n",
    "    print(gettime())\n",
    "    #Verifica se sia pari o dispari\n",
    "    checkeo()"
   ]
  },
  {
   "cell_type": "markdown",
   "metadata": {},
   "source": [
    "## Classi"
   ]
  },
  {
   "cell_type": "code",
   "execution_count": null,
   "metadata": {},
   "outputs": [],
   "source": [
    "class Rect():\n",
    "    def __init__(self, x:float, y:float):\n",
    "        self.x = x\n",
    "        self.y = y\n",
    "\n",
    "    def get_area(self):\n",
    "        return self.x * self.y\n",
    "    \n",
    "    def get_perimeter(self):\n",
    "        return 2*(self.x + self.y)\n",
    "    \n",
    "    def is_square(self):\n",
    "        return self.x == self.y\n",
    "    \n",
    "    def scale(self, scale:float):\n",
    "        self.x = self.x * scale\n",
    "        self.y = self.y * scale"
   ]
  },
  {
   "cell_type": "code",
   "execution_count": null,
   "metadata": {},
   "outputs": [],
   "source": [
    "rect = Rect(5, 4)\n",
    "rect.get_area()\n",
    "rect.scale(3)"
   ]
  },
  {
   "cell_type": "markdown",
   "metadata": {},
   "source": [
    "## Esercizio\n",
    "Creare una classe GymDiary avente altezza, peso, bmi(peso/altezza^2).\n",
    "\n",
    "Una bmi tra 18 e 25 è sana.\n",
    "\n",
    "Funzione per valutare se la bmi è sana.\n",
    "\n",
    "Calcolare la differenza tra peso e peso consigliato."
   ]
  },
  {
   "cell_type": "code",
   "execution_count": null,
   "metadata": {},
   "outputs": [],
   "source": [
    "class GymDiary:\n",
    "    def __init__(self, peso:float, altezza:float):\n",
    "        self.peso = peso\n",
    "        self.altezza = altezza\n",
    "        self.bmi = peso/(altezza ** 2)\n",
    "\n",
    "    def get_bmi(self):\n",
    "        return \"Il tuo BMI è di\", self.bmi\n",
    "    \n",
    "    def is_healthy(self):\n",
    "        if self.bmi >= 18 and self.bmi < 25:\n",
    "            return \"Bmi sano\", self.get_bmi()\n",
    "        \n",
    "    def weith_recco(self):\n",
    "        if self.is_healthy():\n",
    "            return \"Va bene così.\"\n",
    "        return 'Il peso consigliato è tra', 18 * (self.altezza ** 2), 'e', 24.9 * (self.altezza ** 2)"
   ]
  },
  {
   "cell_type": "code",
   "execution_count": null,
   "metadata": {},
   "outputs": [],
   "source": [
    "p = GymDiary(69, 1.75)\n",
    "p.weith_recco()"
   ]
  },
  {
   "cell_type": "markdown",
   "metadata": {},
   "source": [
    "## Ricorsione"
   ]
  },
  {
   "cell_type": "code",
   "execution_count": null,
   "metadata": {},
   "outputs": [],
   "source": [
    "#Esercizio fattoriale\n",
    "def factorial(n):\n",
    "    ris = 1\n",
    "    for i in range(1, n + 1):\n",
    "        ris += ris * i\n",
    "\n",
    "    return ris\n",
    "\n",
    "def factorial_rec(n):\n",
    "    if n > 1:\n",
    "        return n * factorial_rec(n-1)\n",
    "    else:\n",
    "        return 1"
   ]
  },
  {
   "cell_type": "markdown",
   "metadata": {},
   "source": [
    "## Gestione degli errori"
   ]
  },
  {
   "cell_type": "code",
   "execution_count": null,
   "metadata": {},
   "outputs": [],
   "source": [
    "#Try/catch\n",
    "\n",
    "try:\n",
    "    num = int(input(\"Dammi un numero: \"))\n",
    "    print(num)\n",
    "except:\n",
    "    print(\"Non era un numero.\")"
   ]
  },
  {
   "cell_type": "markdown",
   "metadata": {},
   "source": [
    "## Lista vs array"
   ]
  },
  {
   "cell_type": "code",
   "execution_count": null,
   "metadata": {},
   "outputs": [],
   "source": [
    "lista = [1,2,3,4]\n",
    "lista2 = [9,8,7,6]\n",
    "\n",
    "print(lista * 2)\n",
    "print(lista + lista2)"
   ]
  },
  {
   "cell_type": "code",
   "execution_count": null,
   "metadata": {},
   "outputs": [],
   "source": [
    "import numpy as np\n",
    "array = np.array(lista)\n",
    "array2 = np.array(lista2)\n",
    "\n",
    "print(array * 2)\n",
    "print(array + array2)"
   ]
  },
  {
   "cell_type": "code",
   "execution_count": null,
   "metadata": {},
   "outputs": [],
   "source": [
    "print(array2[0]) #primo indice\n",
    "print(array2[-1]) #ultimo indice\n",
    "print(array[0:2])\n",
    "print(array[2:-1])"
   ]
  },
  {
   "cell_type": "code",
   "execution_count": null,
   "metadata": {},
   "outputs": [],
   "source": [
    "print(array.mean) #media\n",
    "print(array.std) #deviazione standard\n",
    "print(array.min) #minimo\n",
    "print(array.max) #massimo\n",
    "print(array.sum) #somma"
   ]
  },
  {
   "cell_type": "code",
   "execution_count": null,
   "metadata": {},
   "outputs": [],
   "source": [
    "lista_zeri = [0] * 10\n",
    "print(lista_zeri)\n",
    "\n",
    "zeri = np.zeros(10)\n",
    "print(zeri)\n",
    "\n",
    "array_uno = np.ones(10)\n",
    "print(array_uno)"
   ]
  },
  {
   "cell_type": "code",
   "execution_count": null,
   "metadata": {},
   "outputs": [],
   "source": [
    "from random import randint\n",
    "for i in range(10):\n",
    "    rand_int = randint(1, zeri.shape[0] - 1)\n",
    "    zeri[rand_int] += 1\n",
    "\n",
    "print(zeri)"
   ]
  },
  {
   "cell_type": "code",
   "execution_count": null,
   "metadata": {},
   "outputs": [],
   "source": [
    "boolean_array = np.zeros(10, dtype=bool)\n",
    "boolean_array"
   ]
  },
  {
   "cell_type": "code",
   "execution_count": null,
   "metadata": {},
   "outputs": [],
   "source": [
    "n_dimension_array = np.zeros((5, 9))\n",
    "print(n_dimension_array)\n",
    "\n",
    "n_dimension_array.shape"
   ]
  },
  {
   "cell_type": "code",
   "execution_count": null,
   "metadata": {},
   "outputs": [],
   "source": [
    "array_range = np.arange(5,20) #Range, dentro una matrice\n",
    "print(array_range)\n",
    "\n",
    "np.arange(16).reshape(8, 2) #Reshape deve avere la stessa dimensione totale della matrice iniziale"
   ]
  },
  {
   "cell_type": "code",
   "execution_count": null,
   "metadata": {},
   "outputs": [],
   "source": [
    "np.eye(4) #Matrice d'identità"
   ]
  },
  {
   "cell_type": "code",
   "execution_count": null,
   "metadata": {},
   "outputs": [],
   "source": [
    "array_randint = np.random.randint(1, 20, 15)"
   ]
  },
  {
   "cell_type": "code",
   "execution_count": null,
   "metadata": {},
   "outputs": [],
   "source": [
    "array_randint.mean()"
   ]
  },
  {
   "cell_type": "code",
   "execution_count": null,
   "metadata": {},
   "outputs": [],
   "source": [
    "np.linspace(0.01, 1, 100)"
   ]
  },
  {
   "cell_type": "code",
   "execution_count": null,
   "metadata": {},
   "outputs": [],
   "source": [
    "np.linspace(0.01, 1, 100).reshape(10,10)"
   ]
  },
  {
   "cell_type": "markdown",
   "metadata": {},
   "source": [
    "## Esercizio"
   ]
  },
  {
   "cell_type": "code",
   "execution_count": null,
   "metadata": {},
   "outputs": [],
   "source": [
    "hours = np.random.uniform(8, 25, 20) #Valori tra 8 e 25 per 20 studenti\n",
    "mark = np.random.randint(0, 100, 20) #valori tra 0 e 100\n",
    "\n",
    "student_data = np.array([hours, mark])\n",
    "print(student_data[1, 8])\n",
    "\n",
    "student_data.mean(axis=1) #media su ogni colonna"
   ]
  },
  {
   "cell_type": "code",
   "execution_count": null,
   "metadata": {},
   "outputs": [],
   "source": [
    "student_data[0] /student_data[1] #ore di studio diviso voto"
   ]
  },
  {
   "cell_type": "markdown",
   "metadata": {},
   "source": [
    "## Matplotlib"
   ]
  },
  {
   "cell_type": "code",
   "execution_count": null,
   "metadata": {},
   "outputs": [],
   "source": [
    "from matplotlib import pyplot as plt\n",
    "import numpy as np"
   ]
  },
  {
   "cell_type": "markdown",
   "metadata": {},
   "source": [
    "## Esercizio\n",
    "Creare una figura con la funzione plt.figure()\n",
    "\n",
    "Usare la funzione add_axes per creare un grafico [0, 0, 1, 1] (ax)\n",
    "\n",
    "x, y su quelle assi\n",
    "\n",
    "asse x avrà il nome 'x', y: 'y', titolo del grafico 'titolo'"
   ]
  },
  {
   "cell_type": "code",
   "execution_count": null,
   "metadata": {},
   "outputs": [],
   "source": [
    "x = np.arange(0, 100)\n",
    "y = x * 2\n",
    "z = x ** 2\n",
    "\n",
    "fig = plt.figure()\n",
    "ax = fig.add_axes([0, 0, 1, 1])\n",
    "ax.plot(x, z)\n",
    "\n",
    "ax.set_xlabel('x')\n",
    "ax.set_ylabel('z')\n",
    "ax.set_title('Grafico')\n",
    "\n",
    "ax2 = fig.add_axes([0.2, 0.5, .2, .2])\n",
    "ax2.plot(x, y)"
   ]
  },
  {
   "cell_type": "code",
   "execution_count": null,
   "metadata": {},
   "outputs": [],
   "source": [
    "ax2.set_xlabel('x2')\n",
    "ax2.set_ylabel('y2')\n",
    "ax2.set_title('subpilot')"
   ]
  }
 ],
 "metadata": {
  "kernelspec": {
   "display_name": "Python 3",
   "language": "python",
   "name": "python3"
  },
  "language_info": {
   "codemirror_mode": {
    "name": "ipython",
    "version": 3
   },
   "file_extension": ".py",
   "mimetype": "text/x-python",
   "name": "python",
   "nbconvert_exporter": "python",
   "pygments_lexer": "ipython3",
   "version": "3.12.0"
  }
 },
 "nbformat": 4,
 "nbformat_minor": 2
}
