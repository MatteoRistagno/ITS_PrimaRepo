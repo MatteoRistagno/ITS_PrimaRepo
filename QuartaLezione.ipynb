{
 "cells": [
  {
   "cell_type": "code",
   "execution_count": 20,
   "metadata": {},
   "outputs": [
    {
     "name": "stdout",
     "output_type": "stream",
     "text": [
      "*\n",
      "**\n",
      "***\n",
      "****\n",
      "*****\n",
      "******\n",
      "*****\n",
      "****\n",
      "***\n",
      "**\n",
      "*\n",
      "\n"
     ]
    }
   ],
   "source": [
    "#Esercizio piramide\n",
    "ast = '*'\n",
    "asterisco = ''\n",
    "\n",
    "n = int(input('Inserisci la lungezza della piramide: '))\n",
    "\n",
    "for i in range(1, n + 1):\n",
    "    asterisco += ast * i + '\\n'\n",
    "    \n",
    "for i in range(n - 1, 0, -1):\n",
    "    asterisco += ast * i + '\\n'\n",
    "    \n",
    "print(asterisco)"
   ]
  },
  {
   "cell_type": "code",
   "execution_count": 3,
   "metadata": {},
   "outputs": [
    {
     "name": "stdout",
     "output_type": "stream",
     "text": [
      "[1, 2, 3, 4, 5, 6, 7, 8, 9, 10, 11, 12, 13, 14, 15, 16, 17, 18, 19, 20]\n"
     ]
    }
   ],
   "source": [
    "#Esercizio lista numeri da 1 a 20 con while loop\n",
    "lista = []\n",
    "\n",
    "n = 1\n",
    "while len(lista) < 20:\n",
    "    lista.append(n)\n",
    "    n += 1\n",
    "    \n",
    "print(lista)"
   ]
  },
  {
   "cell_type": "code",
   "execution_count": 8,
   "metadata": {},
   "outputs": [
    {
     "name": "stdout",
     "output_type": "stream",
     "text": [
      "[20, 19, 18, 17, 16, 15, 14, 13, 12, 11, 10, 9, 8, 7, 6, 5, 4, 3, 2, 1]\n"
     ]
    }
   ],
   "source": [
    "#Per rimuovere un elemento dalla lista usiamo lista.pop()\n",
    "#Partendo dalla lista di numeri di prima, creare una lista invertita con while loop\n",
    "lista_invertita = []\n",
    "i = 1\n",
    "\n",
    "while len(lista_invertita) < 20:\n",
    "    n = lista[- i]\n",
    "    lista_invertita.append(n)\n",
    "    i += 1\n",
    "    \n",
    "print(lista_invertita)"
   ]
  },
  {
   "cell_type": "code",
   "execution_count": 25,
   "metadata": {},
   "outputs": [
    {
     "name": "stdout",
     "output_type": "stream",
     "text": [
      "[21, 21, 21, 21, 21, 21, 21, 21, 21, 21, 21, 21, 21, 21, 21, 21, 21, 21, 21, 21]\n"
     ]
    }
   ],
   "source": [
    "#Somma indice per indice delle 2 liste\n",
    "somma = []\n",
    "\n",
    "for elemento1, elemento2 in zip(lista, lista_invertita):\n",
    "    somma.append(elemento1 + elemento2) \n",
    "print(somma)"
   ]
  },
  {
   "cell_type": "code",
   "execution_count": 70,
   "metadata": {},
   "outputs": [
    {
     "name": "stdout",
     "output_type": "stream",
     "text": [
      "Inserire un numero maggiore di zero!\n"
     ]
    }
   ],
   "source": [
    "#Fattoriali\n",
    "\n",
    "n = int(input('Inserire il numero:'))\n",
    "fattoriale = 1\n",
    "\n",
    "if n < 0:\n",
    "    print('Inserire un numero maggiore di zero!')\n",
    "else:\n",
    "    for i in range(1, n + 1):\n",
    "        fattoriale *= i\n",
    "    print('Il fattoriale di', n, 'è',fattoriale)"
   ]
  },
  {
   "cell_type": "code",
   "execution_count": 64,
   "metadata": {},
   "outputs": [
    {
     "data": {
      "text/plain": [
       "120"
      ]
     },
     "execution_count": 64,
     "metadata": {},
     "output_type": "execute_result"
    }
   ],
   "source": [
    "#Fattoriale con funzione ricorsiva\n",
    "\n",
    "#Richiesta e inserimento dato\n",
    "n = int(input('Inserire il numero:'))\n",
    "\n",
    "fattoriale = 1\n",
    "i = n\n",
    "\n",
    "def fattoriale(i):\n",
    "    if i >= 2:\n",
    "        return i * fattoriale(i - 1)\n",
    "    else:\n",
    "        return 1\n",
    "\n",
    "fattoriale(i)"
   ]
  },
  {
   "cell_type": "code",
   "execution_count": null,
   "metadata": {},
   "outputs": [],
   "source": [
    "import numpy as np\n",
    "array2D_a_caso = np.linspace(0, 100, 100).reshape((10, 10))\n",
    "forma = array2D_a_caso.shape #Questo è un tuple\n",
    "\n",
    "for x in range(forma[0]):\n",
    "    for y in range(forma[1]):\n",
    "        print(array2D_a_caso[x][y])"
   ]
  },
  {
   "cell_type": "code",
   "execution_count": 22,
   "metadata": {},
   "outputs": [
    {
     "data": {
      "text/plain": [
       "1.0101010101010102"
      ]
     },
     "execution_count": 22,
     "metadata": {},
     "output_type": "execute_result"
    }
   ],
   "source": [
    "array2D_a_caso[0][1]"
   ]
  }
 ],
 "metadata": {
  "kernelspec": {
   "display_name": "Python 3",
   "language": "python",
   "name": "python3"
  },
  "language_info": {
   "codemirror_mode": {
    "name": "ipython",
    "version": 3
   },
   "file_extension": ".py",
   "mimetype": "text/x-python",
   "name": "python",
   "nbconvert_exporter": "python",
   "pygments_lexer": "ipython3",
   "version": "3.12.0"
  }
 },
 "nbformat": 4,
 "nbformat_minor": 2
}
