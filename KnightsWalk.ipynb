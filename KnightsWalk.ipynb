{
 "cells": [
  {
   "cell_type": "markdown",
   "metadata": {},
   "source": [
    "# Knight's Walk\n"
   ]
  },
  {
   "cell_type": "markdown",
   "metadata": {},
   "source": [
    "### Parte 1\n",
    "- Inizializzazione della scacchiera.\n",
    "- Ci servirà una matrice a 2 dimensioni.\n",
    "- La matrice avrà dimensioni (2n + 1) ^ 2, con n = numero intero.\n",
    "- La scacchiera avrà il centro con coordinate (n, n).\n",
    "- Riempire la matrice con numeri interi e a spirale.\n",
    "\n",
    "Note:\n",
    "- Python usa indici con base 0, il centro dell'array è l'elemento nomearray[0, 0], non nomearray[0, 0]\n",
    "- Dopo aver trovato il centro, inserendo il valore 1, dobbiamo considerare esattamente n \"Cerchi\" di raggio maggiore. Useremo un for-loop.\n",
    "- In ogni cerchio ci sono 4 segmenti (su, sinistra, giù, destra) che possiamo gestire con 4 for-loops."
   ]
  },
  {
   "cell_type": "code",
   "execution_count": 38,
   "metadata": {},
   "outputs": [
    {
     "name": "stdout",
     "output_type": "stream",
     "text": [
      "1\n"
     ]
    }
   ],
   "source": [
    "import numpy as np\n",
    "n = int(input(\"Inserisci il numero per definire la grandezza della scacchiera: \"))\n",
    "\n",
    "def initialize_board(n):\n",
    "    dim_board = 2 * n + 1\n",
    "    board = np.zeros((dim_board, dim_board), dtype = int)\n",
    "    board[n, n] = 1\n",
    "\n",
    "    i = 2\n",
    "    \n",
    "    for circle in range(1, n + 1):\n",
    "        board[n, n + circle] = i\n",
    "\n",
    "        #Segmento destro\n",
    "        for dx in range(n + circle, n - circle, -1):\n",
    "            board[dx - 1, n + circle] = i\n",
    "            i += 1\n",
    "\n",
    "        #Segmento superiore\n",
    "        for up in range(n + circle, n - circle, -1):\n",
    "            board[n -circle, up - 1] = i\n",
    "            i += 1\n",
    "\n",
    "        #Segmento sinistro\n",
    "        for sx in range(n - circle, n + circle):\n",
    "            board[sx + 1, n - circle] = i\n",
    "            i += 1\n",
    "\n",
    "        for dn in range(n - circle, n + circle):\n",
    "            board[n + circle, dn + 1] = i\n",
    "            i += 1\n",
    "\n",
    "    return board\n",
    "\n",
    "board = initialize_board(n)\n",
    "print(board[n, n])"
   ]
  },
  {
   "cell_type": "markdown",
   "metadata": {},
   "source": [
    "## Parte 2\n",
    "Simulare il salto del cavallo\n",
    "- Dobbiamo simulare e creare la sequenza numerica\n",
    "- Ci serve un'altra funzione che come input prenderà il nostro board\n",
    "- Questa funzione ci restituirà una sequenza e (dopo) le coordinate x e y"
   ]
  },
  {
   "cell_type": "code",
   "execution_count": 39,
   "metadata": {},
   "outputs": [
    {
     "ename": "UnboundLocalError",
     "evalue": "cannot access local variable 'posx' where it is not associated with a value",
     "output_type": "error",
     "traceback": [
      "\u001b[1;31m---------------------------------------------------------------------------\u001b[0m",
      "\u001b[1;31mUnboundLocalError\u001b[0m                         Traceback (most recent call last)",
      "\u001b[1;32mc:\\Users\\MatteoFilippoRistagn\\OneDrive - ITS Incom\\Desktop\\GitHub\\ITS_PrimaRepo\\KnightsWalk.ipynb Cell 5\u001b[0m line \u001b[0;36m4\n\u001b[0;32m     <a href='vscode-notebook-cell:/c%3A/Users/MatteoFilippoRistagn/OneDrive%20-%20ITS%20Incom/Desktop/GitHub/ITS_PrimaRepo/KnightsWalk.ipynb#W4sZmlsZQ%3D%3D?line=38'>39</a>\u001b[0m         dead \u001b[39m=\u001b[39m \u001b[39mTrue\u001b[39;00m\n\u001b[0;32m     <a href='vscode-notebook-cell:/c%3A/Users/MatteoFilippoRistagn/OneDrive%20-%20ITS%20Incom/Desktop/GitHub/ITS_PrimaRepo/KnightsWalk.ipynb#W4sZmlsZQ%3D%3D?line=40'>41</a>\u001b[0m     \u001b[39mreturn\u001b[39;00m sequenza\n\u001b[1;32m---> <a href='vscode-notebook-cell:/c%3A/Users/MatteoFilippoRistagn/OneDrive%20-%20ITS%20Incom/Desktop/GitHub/ITS_PrimaRepo/KnightsWalk.ipynb#W4sZmlsZQ%3D%3D?line=42'>43</a>\u001b[0m simulate_walk(n)\n",
      "\u001b[1;32mc:\\Users\\MatteoFilippoRistagn\\OneDrive - ITS Incom\\Desktop\\GitHub\\ITS_PrimaRepo\\KnightsWalk.ipynb Cell 5\u001b[0m line \u001b[0;36m3\n\u001b[0;32m     <a href='vscode-notebook-cell:/c%3A/Users/MatteoFilippoRistagn/OneDrive%20-%20ITS%20Incom/Desktop/GitHub/ITS_PrimaRepo/KnightsWalk.ipynb#W4sZmlsZQ%3D%3D?line=32'>33</a>\u001b[0m         posx, posy \u001b[39m=\u001b[39m dx, dy\n\u001b[0;32m     <a href='vscode-notebook-cell:/c%3A/Users/MatteoFilippoRistagn/OneDrive%20-%20ITS%20Incom/Desktop/GitHub/ITS_PrimaRepo/KnightsWalk.ipynb#W4sZmlsZQ%3D%3D?line=33'>34</a>\u001b[0m         \u001b[39mmin\u001b[39m \u001b[39m=\u001b[39m board[posx, posy]\n\u001b[1;32m---> <a href='vscode-notebook-cell:/c%3A/Users/MatteoFilippoRistagn/OneDrive%20-%20ITS%20Incom/Desktop/GitHub/ITS_PrimaRepo/KnightsWalk.ipynb#W4sZmlsZQ%3D%3D?line=35'>36</a>\u001b[0m visited[posx, posy] \u001b[39m=\u001b[39m \u001b[39mTrue\u001b[39;00m\n\u001b[0;32m     <a href='vscode-notebook-cell:/c%3A/Users/MatteoFilippoRistagn/OneDrive%20-%20ITS%20Incom/Desktop/GitHub/ITS_PrimaRepo/KnightsWalk.ipynb#W4sZmlsZQ%3D%3D?line=36'>37</a>\u001b[0m sequenza\u001b[39m.\u001b[39mappend(board[posx, posy])\n\u001b[0;32m     <a href='vscode-notebook-cell:/c%3A/Users/MatteoFilippoRistagn/OneDrive%20-%20ITS%20Incom/Desktop/GitHub/ITS_PrimaRepo/KnightsWalk.ipynb#W4sZmlsZQ%3D%3D?line=38'>39</a>\u001b[0m dead \u001b[39m=\u001b[39m \u001b[39mTrue\u001b[39;00m\n",
      "\u001b[1;31mUnboundLocalError\u001b[0m: cannot access local variable 'posx' where it is not associated with a value"
     ]
    }
   ],
   "source": [
    "def simulate_walk(n):\n",
    "    sequenza = []\n",
    "    moves = []\n",
    "    dead = False\n",
    "\n",
    "    #Array di passi disponibili\n",
    "    passi = [[-2, +1], [-1, -2], [+2, -1], [+2, +1], [-1, +2], [-1, -2], [+1, +2], [-2, -1]]\n",
    "    steps = np.array(passi)\n",
    "\n",
    "    #Inizializzazione matrice delle posizioni dove il cavallo è stato\n",
    "    board_size = np.size(board, 0)\n",
    "    visited = np.zeros((board_size, board_size), dtype = bool)\n",
    "\n",
    "    center = board_size // 2\n",
    "    x, y = center, center \n",
    "\n",
    "    visited[x, y] = True\n",
    "    sequenza.append(board[x, y])\n",
    "\n",
    "    i = 0\n",
    "    min = 2 * n + 1\n",
    "\n",
    "    while not dead:\n",
    "        #for dx, dy in passi:\n",
    "            #newx, newy = x + dx, y + dy\n",
    "            #print (newx, newy)\n",
    "            #if (0 <= newx < board_size) and (0 <= newy < board_size) and not visited[newx, newy]:\n",
    "                #moves.append((newx, newy))\n",
    "        \n",
    "        xx = n\n",
    "        yy = n\n",
    "        for xx in range(len):\n",
    "            for yy in\n",
    "                for dx, dy in passi:\n",
    "                    if board[xx + dx, yy + dy] < min:\n",
    "                        posx, posy = xx + dx, yy + dy\n",
    "                        min = board[posx, posy]\n",
    "                    \n",
    "            visited[posx, posy] = True\n",
    "            sequenza.append(board[posx, posy])\n",
    "            \n",
    "        dead = True\n",
    "\n",
    "    return sequenza\n",
    "\n",
    "simulate_walk(n)\n"
   ]
  },
  {
   "cell_type": "code",
   "execution_count": null,
   "metadata": {},
   "outputs": [],
   "source": [
    "board."
   ]
  }
 ],
 "metadata": {
  "kernelspec": {
   "display_name": "Python 3",
   "language": "python",
   "name": "python3"
  },
  "language_info": {
   "codemirror_mode": {
    "name": "ipython",
    "version": 3
   },
   "file_extension": ".py",
   "mimetype": "text/x-python",
   "name": "python",
   "nbconvert_exporter": "python",
   "pygments_lexer": "ipython3",
   "version": "3.12.0"
  }
 },
 "nbformat": 4,
 "nbformat_minor": 2
}
