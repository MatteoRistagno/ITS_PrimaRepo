{
 "cells": [
  {
   "cell_type": "code",
   "execution_count": 50,
   "metadata": {},
   "outputs": [],
   "source": [
    "#a=5\n",
    "#b=\"ciao\"\n",
    "#var_bool=True\n",
    "\n",
    "#var_list=[a,b]\n",
    "#var_tuple=(1,2,3,4,5)\n",
    "#var_dict={\"Name\": \"Matteo\", \"age\": 20}\n",
    "#var_list2=(a,b,c)\n",
    "\n",
    "#print(var_tuple)\n",
    "#print(var_list)\n",
    "#print(var_dict)\n",
    "#print(var_list2)"
   ]
  },
  {
   "cell_type": "code",
   "execution_count": 85,
   "metadata": {},
   "outputs": [
    {
     "name": "stdout",
     "output_type": "stream",
     "text": [
      "[85, 85.0]\n",
      "0\n"
     ]
    }
   ],
   "source": [
    "\n",
    "#c = str(a)\n",
    "#d = bool(a==a)\n",
    "#f = float(a)\n",
    "#e = [a, f]\n",
    "#g = (a, b)\n",
    "\n",
    "\n",
    "#potenza= f ** a\n",
    "#divisione = f // a\n",
    "\n",
    "#print(a)\n",
    "#print(c)\n",
    "#print(d)\n",
    "#print(e)\n",
    "#print(f)\n",
    "#print(g)\n",
    "\n",
    "#print(divisione)\n",
    "#print(b*3)\n",
    "\n",
    "#indice\n",
    "#print(b[2])\n",
    "#print(\"Ciao mi chiamo \" + var_dict[\"Name\"] + \" e ho \" + str(var_dict[\"age\"]) + \" anni\")\n",
    "\n",
    "#print(e.index(f))"
   ]
  },
  {
   "cell_type": "code",
   "execution_count": 63,
   "metadata": {},
   "outputs": [
    {
     "name": "stdout",
     "output_type": "stream",
     "text": [
      "[5, 5, 5, 5]\n",
      "None\n"
     ]
    }
   ],
   "source": [
    "#Aggiunta elemento\n",
    "#e.append(a)\n",
    "#Eliminazione primo elemento\n",
    "#e.remove(a)\n",
    "#Ordinamento lista\n",
    "#e.sort()\n",
    "#Copy crea la copia di una list\n",
    "#print(e.copy()+e.copy())\n",
    "#Inverte gli ordini degli elementi\n",
    "#print(e.reverse())\n",
    "#Svuota la lista\n",
    "#e.clear()"
   ]
  },
  {
   "cell_type": "code",
   "execution_count": 4,
   "metadata": {},
   "outputs": [
    {
     "name": "stdout",
     "output_type": "stream",
     "text": [
      "Hello Hello Hello  you are turning 34 today.\n"
     ]
    }
   ],
   "source": [
    "word = \"Hello \"\n",
    "age = 34\n",
    "print(word*3 + \" you are turning \" +  str(age) + \" today.\")"
   ]
  },
  {
   "cell_type": "code",
   "execution_count": 75,
   "metadata": {},
   "outputs": [
    {
     "name": "stdout",
     "output_type": "stream",
     "text": [
      "1.0833333333333333\n"
     ]
    }
   ],
   "source": [
    "#a = 1/2\n",
    "#b = 1/3\n",
    "#c = 1/4\n",
    "#print(a + b + c)"
   ]
  },
  {
   "cell_type": "code",
   "execution_count": 76,
   "metadata": {},
   "outputs": [
    {
     "name": "stdout",
     "output_type": "stream",
     "text": [
      "7650000000000000000\n"
     ]
    }
   ],
   "source": [
    "#a = 85\n",
    "#b = 3\n",
    "#c = 10\n",
    "#d = 8\n",
    "#e = 2\n",
    "\n",
    "\n",
    "\n",
    "#print(a * (b * (c ** d)) ** e)"
   ]
  },
  {
   "cell_type": "code",
   "execution_count": 79,
   "metadata": {},
   "outputs": [
    {
     "name": "stdout",
     "output_type": "stream",
     "text": [
      "-4.344782730723917\n"
     ]
    }
   ],
   "source": [
    "#import math\n",
    "#print(1/(e*math.pi) * -(math.e**((c - d) ** e) / e))"
   ]
  },
  {
   "cell_type": "code",
   "execution_count": 81,
   "metadata": {},
   "outputs": [
    {
     "name": "stdout",
     "output_type": "stream",
     "text": [
      "Ciao hou il tuo peso è di 76.0 chili, quindi la tua energia è di 6.84e+18 joule.\n"
     ]
    }
   ],
   "source": [
    "#codice che richiede all'utente il suo nome e il suo peso e restituisce la sua energia in joule\n",
    "\n",
    "#richiesta input dato\n",
    "nome = input(\"Inserire il nome: \")\n",
    "#richiesta input dato\n",
    "peso = float(input(\"Inserire il peso: \"))\n",
    "\n",
    "#calcolo\n",
    "cc = 3 * (10 ** 8)\n",
    "energia = peso * (cc ** 2)\n",
    "\n",
    "print(\"Ciao \" + nome + \" il tuo peso è di \" + str(peso) + \" chili, quindi la tua energia è di \" + str(energia) + \" joule.\")"
   ]
  },
  {
   "cell_type": "markdown",
   "metadata": {},
   "source": [
    "## Esercizio\n",
    "indovinare il numero segreto"
   ]
  },
  {
   "cell_type": "code",
   "execution_count": 2,
   "metadata": {},
   "outputs": [
    {
     "name": "stdout",
     "output_type": "stream",
     "text": [
      "Mi spiace! Riprova!\n",
      "Mi spiace! Riprova!\n",
      "Mi spiace! Riprova!\n",
      "Mi spiace! Riprova!\n",
      "Mi spiace! Riprova!\n",
      "Mi dispiace! Non hai trovato il numero!\n"
     ]
    }
   ],
   "source": [
    "import random\n",
    "#Generazione numero casuale\n",
    "numran = random.randint(1, 10)\n",
    "#Dichiarazione variabili\n",
    "trovato = False\n",
    "i = 0\n",
    "\n",
    "#Ciclo while\n",
    "while(trovato or i < 5):\n",
    "    #Richiesta input numero\n",
    "    num = int(input(\"Inserire il numero: \"))\n",
    "    #Verifica uguaglianza numero\n",
    "    if (num == numran):\n",
    "        trovato = True\n",
    "        break\n",
    "    else:\n",
    "        print(\"Mi spiace! Riprova!\")\n",
    "    i+=1\n",
    "\n",
    "#Output risultato finale\n",
    "if trovato:\n",
    "    print(\"Bravo! Hai trovato il numero!\")\n",
    "else:\n",
    "    print(\"Mi dispiace! Non hai trovato il numero!\")"
   ]
  }
 ],
 "metadata": {
  "kernelspec": {
   "display_name": "Python 3",
   "language": "python",
   "name": "python3"
  },
  "language_info": {
   "codemirror_mode": {
    "name": "ipython",
    "version": 3
   },
   "file_extension": ".py",
   "mimetype": "text/x-python",
   "name": "python",
   "nbconvert_exporter": "python",
   "pygments_lexer": "ipython3",
   "version": "3.12.0"
  }
 },
 "nbformat": 4,
 "nbformat_minor": 2
}
