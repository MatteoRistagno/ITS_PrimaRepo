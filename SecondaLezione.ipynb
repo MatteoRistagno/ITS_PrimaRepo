{
 "cells": [
  {
   "cell_type": "code",
   "execution_count": null,
   "metadata": {},
   "outputs": [],
   "source": [
    "for i in range(10, 5, -1):\n",
    "    print(i-1)"
   ]
  },
  {
   "cell_type": "code",
   "execution_count": null,
   "metadata": {},
   "outputs": [],
   "source": [
    "for i in range(0, 100):\n",
    "    if i % 7 == 0:\n",
    "        print(i)"
   ]
  },
  {
   "cell_type": "code",
   "execution_count": null,
   "metadata": {},
   "outputs": [],
   "source": [
    "# Ciclo while\n",
    "i = 0\n",
    "while i < 10:\n",
    "    print(i)\n",
    "    i+=1"
   ]
  },
  {
   "cell_type": "code",
   "execution_count": null,
   "metadata": {},
   "outputs": [],
   "source": [
    "#Array\n",
    "giornisettimana = [\"Lunedì\", \"Martedì\", \"Mercoledì\", \"Giovedì\", \"Venerdì\", \"Sabato\", \"Domenica\"]\n",
    "for giorno in giornisettimana:\n",
    "    print(giorno)"
   ]
  },
  {
   "cell_type": "markdown",
   "metadata": {},
   "source": [
    "## Logica di riordinamento Bubble sort\n"
   ]
  },
  {
   "cell_type": "code",
   "execution_count": null,
   "metadata": {},
   "outputs": [],
   "source": [
    "# Ho un mazzo di carte, voglio riordinare il mazzo\n",
    "mazzo = [5, 11, 3, 15, 13, 17, 2, 4, 9, 1, 8]\n",
    "cont = 0\n",
    "\n",
    "for i in range(0, len(mazzo)):\n",
    "    for j in range(0, len(mazzo)-1):\n",
    "        cont+=1\n",
    "        if mazzo[j] > mazzo[j+1]:\n",
    "            mazzo[j], mazzo[j+1] = mazzo[j+1], mazzo[j]\n",
    "\n",
    "print(mazzo)\n",
    "print(cont)"
   ]
  },
  {
   "cell_type": "code",
   "execution_count": null,
   "metadata": {},
   "outputs": [],
   "source": [
    "# MERGE SORT\n",
    "# Dividere il mazzo di carte in mazzetti\n",
    "# Riordinare i mazzetti\n",
    "# Unire i mazzetti nel nuovo mazzo ordinato\n",
    "# Complessità = n*log(n)\n",
    "\n",
    "def mergeSort(array):\n",
    "    #Controllo che si possa dividere lo'array\n",
    "    if len(array) > 1:\n",
    "        half_a = len(array) // 2\n",
    "        left_a = array[:half_a]\n",
    "        right_a = array[half_a:]\n",
    "\n",
    "        mergeSort(left_a)\n",
    "        mergeSort(right_a)\n",
    "\n",
    "        i = j = k = 0\n",
    "\n",
    "        while i < len(left_a) and j < len(right_a):\n",
    "            if left_a[i] < right_a[j]:\n",
    "                array[k] = left_a[i]\n",
    "                i += 1\n",
    "            else:\n",
    "                array[k] = right_a[j]\n",
    "                j += 1\n",
    "\n",
    "            #Incremento indice array finale\n",
    "            k+=1\n",
    "\n",
    "        while i < len(left_a):\n",
    "            array[k] = left_a[i]\n",
    "            i += 1\n",
    "            k += 1\n",
    "\n",
    "        while j < len(right_a):\n",
    "            array[k] = right_a\n",
    "            j += 1\n",
    "            k += 1\n",
    "\n",
    "mazzo = [5, 11, 3, 15, 13, 17, 2, 4, 9, 1]\n",
    "mazzoordinato = mazzo.copy()\n",
    "#Ordinamento mazzo\n",
    "mergeSort(mazzoordinato)\n",
    "\n",
    "#Stampa mazzo\n",
    "print(mazzoordinato)"
   ]
  }
 ],
 "metadata": {
  "kernelspec": {
   "display_name": "Python 3",
   "language": "python",
   "name": "python3"
  },
  "language_info": {
   "codemirror_mode": {
    "name": "ipython",
    "version": 3
   },
   "file_extension": ".py",
   "mimetype": "text/x-python",
   "name": "python",
   "nbconvert_exporter": "python",
   "pygments_lexer": "ipython3",
   "version": "3.12.0"
  }
 },
 "nbformat": 4,
 "nbformat_minor": 2
}
